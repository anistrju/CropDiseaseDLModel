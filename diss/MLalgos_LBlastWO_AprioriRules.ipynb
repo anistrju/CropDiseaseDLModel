{
 "cells": [
  {
   "cell_type": "code",
   "execution_count": 1,
   "id": "c5564983",
   "metadata": {},
   "outputs": [],
   "source": [
    "import numpy as np\n",
    "import matplotlib.pyplot as plt\n",
    "import pandas as pd"
   ]
  },
  {
   "cell_type": "code",
   "execution_count": 14,
   "id": "5d881a58",
   "metadata": {},
   "outputs": [],
   "source": [
    "dataset = pd.read_excel('C://Users//S1130863//Downloads/diss/testing_lbwo.xlsx')"
   ]
  },
  {
   "cell_type": "code",
   "execution_count": 69,
   "id": "1bdd0a8e",
   "metadata": {},
   "outputs": [
    {
     "data": {
      "text/plain": [
       "[1993, 1994, 1995, 1996, 1998, 1999, 2000, 2001]"
      ]
     },
     "execution_count": 69,
     "metadata": {},
     "output_type": "execute_result"
    }
   ],
   "source": [
    "years = sorted(dataset.loc[:,'Observation Year'].unique().tolist())\n",
    "years"
   ]
  },
  {
   "cell_type": "code",
   "execution_count": 70,
   "id": "231b360f",
   "metadata": {},
   "outputs": [
    {
     "data": {
      "text/plain": [
       "[1993, 1994, 1995, 1996, 1998, 1999]"
      ]
     },
     "execution_count": 70,
     "metadata": {},
     "output_type": "execute_result"
    }
   ],
   "source": [
    "import random\n",
    "#selectedyears = random.sample(years,6)\n",
    "selectedyears = years[:6]\n",
    "selectedyears"
   ]
  },
  {
   "cell_type": "code",
   "execution_count": 71,
   "id": "35ea9a60",
   "metadata": {},
   "outputs": [],
   "source": [
    "data_train = dataset[dataset['Observation Year'].isin(selectedyears)]\n",
    "data_test = dataset[~dataset['Observation Year'].isin(selectedyears)]"
   ]
  },
  {
   "cell_type": "code",
   "execution_count": 72,
   "id": "4abeb1dc",
   "metadata": {},
   "outputs": [],
   "source": [
    "X_train = data_train.loc[:, ['MAXT','MINT','RH1','RH2','RF','WS','SSH','EVP','Apriori-rule']]\n",
    "X_test = data_test.loc[:, ['MAXT','MINT','RH1','RH2','RF','WS','SSH','EVP','Apriori-rule']]\n",
    "y_train = data_train.loc[:, ['LB_binary']]\n",
    "y_test = data_test.loc[:, ['LB_binary']]"
   ]
  },
  {
   "cell_type": "code",
   "execution_count": 73,
   "id": "5e382722",
   "metadata": {},
   "outputs": [
    {
     "data": {
      "text/html": [
       "<div>\n",
       "<style scoped>\n",
       "    .dataframe tbody tr th:only-of-type {\n",
       "        vertical-align: middle;\n",
       "    }\n",
       "\n",
       "    .dataframe tbody tr th {\n",
       "        vertical-align: top;\n",
       "    }\n",
       "\n",
       "    .dataframe thead th {\n",
       "        text-align: right;\n",
       "    }\n",
       "</style>\n",
       "<table border=\"1\" class=\"dataframe\">\n",
       "  <thead>\n",
       "    <tr style=\"text-align: right;\">\n",
       "      <th></th>\n",
       "      <th>MAXT</th>\n",
       "      <th>MINT</th>\n",
       "      <th>RH1</th>\n",
       "      <th>RH2</th>\n",
       "      <th>RF</th>\n",
       "      <th>WS</th>\n",
       "      <th>SSH</th>\n",
       "      <th>EVP</th>\n",
       "      <th>Apriori-rule</th>\n",
       "    </tr>\n",
       "  </thead>\n",
       "  <tbody>\n",
       "    <tr>\n",
       "      <th>0</th>\n",
       "      <td>29.1</td>\n",
       "      <td>12.8</td>\n",
       "      <td>75.9</td>\n",
       "      <td>29.6</td>\n",
       "      <td>0.0</td>\n",
       "      <td>2.1</td>\n",
       "      <td>9.6</td>\n",
       "      <td>3.2</td>\n",
       "      <td>0</td>\n",
       "    </tr>\n",
       "    <tr>\n",
       "      <th>1</th>\n",
       "      <td>31.1</td>\n",
       "      <td>13.1</td>\n",
       "      <td>72.6</td>\n",
       "      <td>27.3</td>\n",
       "      <td>0.0</td>\n",
       "      <td>1.7</td>\n",
       "      <td>10.2</td>\n",
       "      <td>3.2</td>\n",
       "      <td>0</td>\n",
       "    </tr>\n",
       "    <tr>\n",
       "      <th>2</th>\n",
       "      <td>30.7</td>\n",
       "      <td>13.1</td>\n",
       "      <td>75.3</td>\n",
       "      <td>28.3</td>\n",
       "      <td>0.0</td>\n",
       "      <td>1.8</td>\n",
       "      <td>9.9</td>\n",
       "      <td>3.0</td>\n",
       "      <td>0</td>\n",
       "    </tr>\n",
       "    <tr>\n",
       "      <th>3</th>\n",
       "      <td>30.3</td>\n",
       "      <td>11.4</td>\n",
       "      <td>74.0</td>\n",
       "      <td>29.6</td>\n",
       "      <td>0.0</td>\n",
       "      <td>1.7</td>\n",
       "      <td>9.9</td>\n",
       "      <td>3.1</td>\n",
       "      <td>0</td>\n",
       "    </tr>\n",
       "    <tr>\n",
       "      <th>4</th>\n",
       "      <td>30.5</td>\n",
       "      <td>12.7</td>\n",
       "      <td>76.3</td>\n",
       "      <td>27.1</td>\n",
       "      <td>0.0</td>\n",
       "      <td>2.2</td>\n",
       "      <td>10.0</td>\n",
       "      <td>3.1</td>\n",
       "      <td>0</td>\n",
       "    </tr>\n",
       "    <tr>\n",
       "      <th>...</th>\n",
       "      <td>...</td>\n",
       "      <td>...</td>\n",
       "      <td>...</td>\n",
       "      <td>...</td>\n",
       "      <td>...</td>\n",
       "      <td>...</td>\n",
       "      <td>...</td>\n",
       "      <td>...</td>\n",
       "      <td>...</td>\n",
       "    </tr>\n",
       "    <tr>\n",
       "      <th>357</th>\n",
       "      <td>28.6</td>\n",
       "      <td>22.8</td>\n",
       "      <td>87.0</td>\n",
       "      <td>67.0</td>\n",
       "      <td>1.9</td>\n",
       "      <td>5.4</td>\n",
       "      <td>4.4</td>\n",
       "      <td>3.4</td>\n",
       "      <td>1</td>\n",
       "    </tr>\n",
       "    <tr>\n",
       "      <th>358</th>\n",
       "      <td>31.4</td>\n",
       "      <td>23.0</td>\n",
       "      <td>80.1</td>\n",
       "      <td>52.6</td>\n",
       "      <td>1.8</td>\n",
       "      <td>4.4</td>\n",
       "      <td>7.0</td>\n",
       "      <td>5.3</td>\n",
       "      <td>1</td>\n",
       "    </tr>\n",
       "    <tr>\n",
       "      <th>359</th>\n",
       "      <td>31.7</td>\n",
       "      <td>23.1</td>\n",
       "      <td>93.6</td>\n",
       "      <td>60.4</td>\n",
       "      <td>23.4</td>\n",
       "      <td>1.9</td>\n",
       "      <td>5.7</td>\n",
       "      <td>2.9</td>\n",
       "      <td>1</td>\n",
       "    </tr>\n",
       "    <tr>\n",
       "      <th>360</th>\n",
       "      <td>31.1</td>\n",
       "      <td>22.9</td>\n",
       "      <td>89.6</td>\n",
       "      <td>60.6</td>\n",
       "      <td>14.6</td>\n",
       "      <td>3.0</td>\n",
       "      <td>8.6</td>\n",
       "      <td>3.7</td>\n",
       "      <td>1</td>\n",
       "    </tr>\n",
       "    <tr>\n",
       "      <th>361</th>\n",
       "      <td>31.5</td>\n",
       "      <td>22.4</td>\n",
       "      <td>92.3</td>\n",
       "      <td>52.3</td>\n",
       "      <td>8.4</td>\n",
       "      <td>2.3</td>\n",
       "      <td>7.4</td>\n",
       "      <td>3.6</td>\n",
       "      <td>1</td>\n",
       "    </tr>\n",
       "  </tbody>\n",
       "</table>\n",
       "<p>312 rows × 9 columns</p>\n",
       "</div>"
      ],
      "text/plain": [
       "     MAXT  MINT   RH1   RH2    RF   WS   SSH  EVP  Apriori-rule\n",
       "0    29.1  12.8  75.9  29.6   0.0  2.1   9.6  3.2             0\n",
       "1    31.1  13.1  72.6  27.3   0.0  1.7  10.2  3.2             0\n",
       "2    30.7  13.1  75.3  28.3   0.0  1.8   9.9  3.0             0\n",
       "3    30.3  11.4  74.0  29.6   0.0  1.7   9.9  3.1             0\n",
       "4    30.5  12.7  76.3  27.1   0.0  2.2  10.0  3.1             0\n",
       "..    ...   ...   ...   ...   ...  ...   ...  ...           ...\n",
       "357  28.6  22.8  87.0  67.0   1.9  5.4   4.4  3.4             1\n",
       "358  31.4  23.0  80.1  52.6   1.8  4.4   7.0  5.3             1\n",
       "359  31.7  23.1  93.6  60.4  23.4  1.9   5.7  2.9             1\n",
       "360  31.1  22.9  89.6  60.6  14.6  3.0   8.6  3.7             1\n",
       "361  31.5  22.4  92.3  52.3   8.4  2.3   7.4  3.6             1\n",
       "\n",
       "[312 rows x 9 columns]"
      ]
     },
     "execution_count": 73,
     "metadata": {},
     "output_type": "execute_result"
    }
   ],
   "source": [
    "X_train"
   ]
  },
  {
   "cell_type": "code",
   "execution_count": 20,
   "id": "02e0eaaa",
   "metadata": {},
   "outputs": [],
   "source": [
    "from sklearn.preprocessing import StandardScaler\n",
    "sc = StandardScaler()\n",
    "#X_train = sc.fit_transform(X_train)\n",
    "#X_test = sc.transform(X_test)\n",
    "X_train.iloc[:,:8] = sc.fit_transform(X_train.iloc[:,:8])\n",
    "X_test.iloc[:,:8] = sc.transform(X_test.iloc[:,:8])"
   ]
  },
  {
   "cell_type": "code",
   "execution_count": 25,
   "id": "5f8c9828",
   "metadata": {},
   "outputs": [
    {
     "data": {
      "text/html": [
       "<div>\n",
       "<style scoped>\n",
       "    .dataframe tbody tr th:only-of-type {\n",
       "        vertical-align: middle;\n",
       "    }\n",
       "\n",
       "    .dataframe tbody tr th {\n",
       "        vertical-align: top;\n",
       "    }\n",
       "\n",
       "    .dataframe thead th {\n",
       "        text-align: right;\n",
       "    }\n",
       "</style>\n",
       "<table border=\"1\" class=\"dataframe\">\n",
       "  <thead>\n",
       "    <tr style=\"text-align: right;\">\n",
       "      <th></th>\n",
       "      <th>MAXT</th>\n",
       "      <th>MINT</th>\n",
       "      <th>RH1</th>\n",
       "      <th>RH2</th>\n",
       "      <th>RF</th>\n",
       "      <th>WS</th>\n",
       "      <th>SSH</th>\n",
       "      <th>EVP</th>\n",
       "      <th>Apriori-rule</th>\n",
       "    </tr>\n",
       "  </thead>\n",
       "  <tbody>\n",
       "    <tr>\n",
       "      <th>73</th>\n",
       "      <td>-0.962261</td>\n",
       "      <td>-1.503431</td>\n",
       "      <td>0.234385</td>\n",
       "      <td>-0.602145</td>\n",
       "      <td>-0.543958</td>\n",
       "      <td>-0.937585</td>\n",
       "      <td>0.575039</td>\n",
       "      <td>-0.668809</td>\n",
       "      <td>0</td>\n",
       "    </tr>\n",
       "    <tr>\n",
       "      <th>74</th>\n",
       "      <td>2.122908</td>\n",
       "      <td>0.829144</td>\n",
       "      <td>-2.304501</td>\n",
       "      <td>-0.971822</td>\n",
       "      <td>0.657143</td>\n",
       "      <td>-0.237459</td>\n",
       "      <td>1.037732</td>\n",
       "      <td>1.502817</td>\n",
       "      <td>0</td>\n",
       "    </tr>\n",
       "    <tr>\n",
       "      <th>75</th>\n",
       "      <td>1.053051</td>\n",
       "      <td>1.235740</td>\n",
       "      <td>-1.507089</td>\n",
       "      <td>-0.432624</td>\n",
       "      <td>-0.493118</td>\n",
       "      <td>0.596514</td>\n",
       "      <td>1.191963</td>\n",
       "      <td>1.391134</td>\n",
       "      <td>0</td>\n",
       "    </tr>\n",
       "    <tr>\n",
       "      <th>76</th>\n",
       "      <td>0.779367</td>\n",
       "      <td>1.150140</td>\n",
       "      <td>-1.057972</td>\n",
       "      <td>-0.144643</td>\n",
       "      <td>-0.299289</td>\n",
       "      <td>0.071420</td>\n",
       "      <td>0.343693</td>\n",
       "      <td>0.758260</td>\n",
       "      <td>0</td>\n",
       "    </tr>\n",
       "    <tr>\n",
       "      <th>77</th>\n",
       "      <td>0.854008</td>\n",
       "      <td>1.107341</td>\n",
       "      <td>-0.407211</td>\n",
       "      <td>0.131083</td>\n",
       "      <td>0.250421</td>\n",
       "      <td>0.225860</td>\n",
       "      <td>0.266578</td>\n",
       "      <td>0.832715</td>\n",
       "      <td>0</td>\n",
       "    </tr>\n",
       "    <tr>\n",
       "      <th>...</th>\n",
       "      <td>...</td>\n",
       "      <td>...</td>\n",
       "      <td>...</td>\n",
       "      <td>...</td>\n",
       "      <td>...</td>\n",
       "      <td>...</td>\n",
       "      <td>...</td>\n",
       "      <td>...</td>\n",
       "      <td>...</td>\n",
       "    </tr>\n",
       "    <tr>\n",
       "      <th>411</th>\n",
       "      <td>-0.340251</td>\n",
       "      <td>-0.112446</td>\n",
       "      <td>0.729330</td>\n",
       "      <td>0.039174</td>\n",
       "      <td>-0.543958</td>\n",
       "      <td>-0.484562</td>\n",
       "      <td>-0.003326</td>\n",
       "      <td>-0.358577</td>\n",
       "      <td>1</td>\n",
       "    </tr>\n",
       "    <tr>\n",
       "      <th>412</th>\n",
       "      <td>-0.464653</td>\n",
       "      <td>-0.005447</td>\n",
       "      <td>-0.407211</td>\n",
       "      <td>0.296519</td>\n",
       "      <td>-0.543958</td>\n",
       "      <td>-0.515450</td>\n",
       "      <td>0.305135</td>\n",
       "      <td>-0.284121</td>\n",
       "      <td>1</td>\n",
       "    </tr>\n",
       "    <tr>\n",
       "      <th>413</th>\n",
       "      <td>-0.564175</td>\n",
       "      <td>-0.968437</td>\n",
       "      <td>0.509355</td>\n",
       "      <td>-0.230425</td>\n",
       "      <td>-0.543958</td>\n",
       "      <td>-0.886105</td>\n",
       "      <td>0.382251</td>\n",
       "      <td>-0.619172</td>\n",
       "      <td>1</td>\n",
       "    </tr>\n",
       "    <tr>\n",
       "      <th>414</th>\n",
       "      <td>-0.663697</td>\n",
       "      <td>-2.209623</td>\n",
       "      <td>-0.223898</td>\n",
       "      <td>-1.051476</td>\n",
       "      <td>-0.543958</td>\n",
       "      <td>-0.978769</td>\n",
       "      <td>0.883501</td>\n",
       "      <td>-0.619172</td>\n",
       "      <td>0</td>\n",
       "    </tr>\n",
       "    <tr>\n",
       "      <th>415</th>\n",
       "      <td>-0.514414</td>\n",
       "      <td>-1.760228</td>\n",
       "      <td>0.417698</td>\n",
       "      <td>-0.677714</td>\n",
       "      <td>-0.543958</td>\n",
       "      <td>-0.947881</td>\n",
       "      <td>0.729270</td>\n",
       "      <td>-0.656400</td>\n",
       "      <td>0</td>\n",
       "    </tr>\n",
       "  </tbody>\n",
       "</table>\n",
       "<p>104 rows × 9 columns</p>\n",
       "</div>"
      ],
      "text/plain": [
       "         MAXT      MINT       RH1       RH2        RF        WS       SSH  \\\n",
       "73  -0.962261 -1.503431  0.234385 -0.602145 -0.543958 -0.937585  0.575039   \n",
       "74   2.122908  0.829144 -2.304501 -0.971822  0.657143 -0.237459  1.037732   \n",
       "75   1.053051  1.235740 -1.507089 -0.432624 -0.493118  0.596514  1.191963   \n",
       "76   0.779367  1.150140 -1.057972 -0.144643 -0.299289  0.071420  0.343693   \n",
       "77   0.854008  1.107341 -0.407211  0.131083  0.250421  0.225860  0.266578   \n",
       "..        ...       ...       ...       ...       ...       ...       ...   \n",
       "411 -0.340251 -0.112446  0.729330  0.039174 -0.543958 -0.484562 -0.003326   \n",
       "412 -0.464653 -0.005447 -0.407211  0.296519 -0.543958 -0.515450  0.305135   \n",
       "413 -0.564175 -0.968437  0.509355 -0.230425 -0.543958 -0.886105  0.382251   \n",
       "414 -0.663697 -2.209623 -0.223898 -1.051476 -0.543958 -0.978769  0.883501   \n",
       "415 -0.514414 -1.760228  0.417698 -0.677714 -0.543958 -0.947881  0.729270   \n",
       "\n",
       "          EVP  Apriori-rule  \n",
       "73  -0.668809             0  \n",
       "74   1.502817             0  \n",
       "75   1.391134             0  \n",
       "76   0.758260             0  \n",
       "77   0.832715             0  \n",
       "..        ...           ...  \n",
       "411 -0.358577             1  \n",
       "412 -0.284121             1  \n",
       "413 -0.619172             1  \n",
       "414 -0.619172             0  \n",
       "415 -0.656400             0  \n",
       "\n",
       "[104 rows x 9 columns]"
      ]
     },
     "execution_count": 25,
     "metadata": {},
     "output_type": "execute_result"
    }
   ],
   "source": [
    "X_test"
   ]
  },
  {
   "cell_type": "code",
   "execution_count": 58,
   "id": "974ed1ac",
   "metadata": {},
   "outputs": [
    {
     "name": "stderr",
     "output_type": "stream",
     "text": [
      "C:\\Users\\S1130863\\Anaconda3\\lib\\site-packages\\sklearn\\utils\\validation.py:63: DataConversionWarning: A column-vector y was passed when a 1d array was expected. Please change the shape of y to (n_samples, ), for example using ravel().\n",
      "  return f(*args, **kwargs)\n",
      "C:\\Users\\S1130863\\Anaconda3\\lib\\site-packages\\sklearn\\linear_model\\_logistic.py:763: ConvergenceWarning: lbfgs failed to converge (status=1):\n",
      "STOP: TOTAL NO. of ITERATIONS REACHED LIMIT.\n",
      "\n",
      "Increase the number of iterations (max_iter) or scale the data as shown in:\n",
      "    https://scikit-learn.org/stable/modules/preprocessing.html\n",
      "Please also refer to the documentation for alternative solver options:\n",
      "    https://scikit-learn.org/stable/modules/linear_model.html#logistic-regression\n",
      "  n_iter_i = _check_optimize_result(\n"
     ]
    }
   ],
   "source": [
    "from sklearn.linear_model import LogisticRegression\n",
    "classifier = LogisticRegression(random_state = 0)\n",
    "classifier.fit(X_train, y_train)\n",
    "y_pred = classifier.predict(X_test)"
   ]
  },
  {
   "cell_type": "code",
   "execution_count": 59,
   "id": "bbfa5ff0",
   "metadata": {},
   "outputs": [
    {
     "name": "stdout",
     "output_type": "stream",
     "text": [
      "[[48  4]\n",
      " [ 0  0]]\n"
     ]
    },
    {
     "data": {
      "text/plain": [
       "0.9230769230769231"
      ]
     },
     "execution_count": 59,
     "metadata": {},
     "output_type": "execute_result"
    }
   ],
   "source": [
    "from sklearn.metrics import confusion_matrix, accuracy_score\n",
    "cm = confusion_matrix(y_test, y_pred)\n",
    "print(cm)\n",
    "accuracy_score(y_test, y_pred)"
   ]
  },
  {
   "cell_type": "code",
   "execution_count": 60,
   "id": "e09f4b80",
   "metadata": {},
   "outputs": [
    {
     "data": {
      "text/plain": [
       "0.0"
      ]
     },
     "execution_count": 60,
     "metadata": {},
     "output_type": "execute_result"
    }
   ],
   "source": [
    "from sklearn.metrics import f1_score\n",
    "f1_score(y_test,y_pred)"
   ]
  },
  {
   "cell_type": "code",
   "execution_count": 26,
   "id": "a0194eda",
   "metadata": {},
   "outputs": [
    {
     "name": "stdout",
     "output_type": "stream",
     "text": [
      "WARNING:tensorflow:From C:\\Users\\S1130863\\AppData\\Roaming\\Python\\Python39\\site-packages\\keras\\src\\losses.py:2976: The name tf.losses.sparse_softmax_cross_entropy is deprecated. Please use tf.compat.v1.losses.sparse_softmax_cross_entropy instead.\n",
      "\n"
     ]
    }
   ],
   "source": [
    "import tensorflow as tf"
   ]
  },
  {
   "cell_type": "code",
   "execution_count": 61,
   "id": "b768924f",
   "metadata": {},
   "outputs": [],
   "source": [
    "ann = tf.keras.models.Sequential()"
   ]
  },
  {
   "cell_type": "code",
   "execution_count": 62,
   "id": "23655595",
   "metadata": {},
   "outputs": [],
   "source": [
    "ann.add(tf.keras.layers.Dense(units=12, activation='relu'))"
   ]
  },
  {
   "cell_type": "code",
   "execution_count": 63,
   "id": "f8f8dd8b",
   "metadata": {},
   "outputs": [],
   "source": [
    "ann.add(tf.keras.layers.Dense(units=12, activation='relu'))"
   ]
  },
  {
   "cell_type": "code",
   "execution_count": 64,
   "id": "15cd3b31",
   "metadata": {},
   "outputs": [],
   "source": [
    "ann.add(tf.keras.layers.Dense(units=1, activation='sigmoid'))"
   ]
  },
  {
   "cell_type": "code",
   "execution_count": 65,
   "id": "e788da1a",
   "metadata": {},
   "outputs": [],
   "source": [
    "ann.compile(optimizer = 'adam', loss = 'binary_crossentropy', metrics = ['accuracy'])"
   ]
  },
  {
   "cell_type": "code",
   "execution_count": 66,
   "id": "953797cd",
   "metadata": {},
   "outputs": [
    {
     "name": "stdout",
     "output_type": "stream",
     "text": [
      "Epoch 1/100\n",
      "14/14 [==============================] - 1s 4ms/step - loss: 1.3632 - accuracy: 0.6676\n",
      "Epoch 2/100\n",
      "14/14 [==============================] - 0s 5ms/step - loss: 0.9819 - accuracy: 0.6511\n",
      "Epoch 3/100\n",
      "14/14 [==============================] - 0s 3ms/step - loss: 0.7696 - accuracy: 0.6978\n",
      "Epoch 4/100\n",
      "14/14 [==============================] - 0s 4ms/step - loss: 0.6040 - accuracy: 0.7143\n",
      "Epoch 5/100\n",
      "14/14 [==============================] - 0s 4ms/step - loss: 0.4948 - accuracy: 0.7500\n",
      "Epoch 6/100\n",
      "14/14 [==============================] - 0s 4ms/step - loss: 0.4546 - accuracy: 0.7912\n",
      "Epoch 7/100\n",
      "14/14 [==============================] - 0s 4ms/step - loss: 0.4211 - accuracy: 0.8187\n",
      "Epoch 8/100\n",
      "14/14 [==============================] - 0s 4ms/step - loss: 0.3835 - accuracy: 0.8269\n",
      "Epoch 9/100\n",
      "14/14 [==============================] - 0s 4ms/step - loss: 0.3635 - accuracy: 0.8462\n",
      "Epoch 10/100\n",
      "14/14 [==============================] - 0s 4ms/step - loss: 0.3673 - accuracy: 0.8269\n",
      "Epoch 11/100\n",
      "14/14 [==============================] - 0s 4ms/step - loss: 0.3413 - accuracy: 0.8407\n",
      "Epoch 12/100\n",
      "14/14 [==============================] - 0s 4ms/step - loss: 0.3399 - accuracy: 0.8297\n",
      "Epoch 13/100\n",
      "14/14 [==============================] - 0s 5ms/step - loss: 0.3226 - accuracy: 0.8516\n",
      "Epoch 14/100\n",
      "14/14 [==============================] - 0s 4ms/step - loss: 0.3430 - accuracy: 0.8352\n",
      "Epoch 15/100\n",
      "14/14 [==============================] - 0s 4ms/step - loss: 0.3353 - accuracy: 0.8324\n",
      "Epoch 16/100\n",
      "14/14 [==============================] - 0s 4ms/step - loss: 0.3178 - accuracy: 0.8324\n",
      "Epoch 17/100\n",
      "14/14 [==============================] - 0s 4ms/step - loss: 0.3151 - accuracy: 0.8516\n",
      "Epoch 18/100\n",
      "14/14 [==============================] - 0s 5ms/step - loss: 0.3079 - accuracy: 0.8571\n",
      "Epoch 19/100\n",
      "14/14 [==============================] - 0s 4ms/step - loss: 0.3100 - accuracy: 0.8379\n",
      "Epoch 20/100\n",
      "14/14 [==============================] - 0s 5ms/step - loss: 0.3160 - accuracy: 0.8462\n",
      "Epoch 21/100\n",
      "14/14 [==============================] - 0s 4ms/step - loss: 0.3092 - accuracy: 0.8544\n",
      "Epoch 22/100\n",
      "14/14 [==============================] - 0s 4ms/step - loss: 0.2963 - accuracy: 0.8571\n",
      "Epoch 23/100\n",
      "14/14 [==============================] - 0s 4ms/step - loss: 0.2948 - accuracy: 0.8489\n",
      "Epoch 24/100\n",
      "14/14 [==============================] - 0s 4ms/step - loss: 0.2943 - accuracy: 0.8379\n",
      "Epoch 25/100\n",
      "14/14 [==============================] - 0s 4ms/step - loss: 0.2750 - accuracy: 0.8544\n",
      "Epoch 26/100\n",
      "14/14 [==============================] - 0s 4ms/step - loss: 0.2702 - accuracy: 0.8599\n",
      "Epoch 27/100\n",
      "14/14 [==============================] - 0s 4ms/step - loss: 0.2583 - accuracy: 0.8626\n",
      "Epoch 28/100\n",
      "14/14 [==============================] - 0s 4ms/step - loss: 0.2954 - accuracy: 0.8489\n",
      "Epoch 29/100\n",
      "14/14 [==============================] - 0s 3ms/step - loss: 0.2693 - accuracy: 0.8626\n",
      "Epoch 30/100\n",
      "14/14 [==============================] - 0s 4ms/step - loss: 0.2629 - accuracy: 0.8544\n",
      "Epoch 31/100\n",
      "14/14 [==============================] - 0s 5ms/step - loss: 0.2550 - accuracy: 0.8681\n",
      "Epoch 32/100\n",
      "14/14 [==============================] - 0s 4ms/step - loss: 0.2626 - accuracy: 0.8434\n",
      "Epoch 33/100\n",
      "14/14 [==============================] - 0s 5ms/step - loss: 0.2724 - accuracy: 0.8681\n",
      "Epoch 34/100\n",
      "14/14 [==============================] - 0s 4ms/step - loss: 0.2698 - accuracy: 0.8544\n",
      "Epoch 35/100\n",
      "14/14 [==============================] - 0s 5ms/step - loss: 0.2831 - accuracy: 0.8599\n",
      "Epoch 36/100\n",
      "14/14 [==============================] - 0s 5ms/step - loss: 0.2784 - accuracy: 0.8599\n",
      "Epoch 37/100\n",
      "14/14 [==============================] - 0s 5ms/step - loss: 0.2615 - accuracy: 0.8764\n",
      "Epoch 38/100\n",
      "14/14 [==============================] - 0s 5ms/step - loss: 0.2509 - accuracy: 0.8654\n",
      "Epoch 39/100\n",
      "14/14 [==============================] - 0s 4ms/step - loss: 0.2505 - accuracy: 0.8626\n",
      "Epoch 40/100\n",
      "14/14 [==============================] - 0s 4ms/step - loss: 0.2548 - accuracy: 0.8654\n",
      "Epoch 41/100\n",
      "14/14 [==============================] - 0s 3ms/step - loss: 0.2482 - accuracy: 0.8654\n",
      "Epoch 42/100\n",
      "14/14 [==============================] - 0s 4ms/step - loss: 0.2502 - accuracy: 0.8764\n",
      "Epoch 43/100\n",
      "14/14 [==============================] - 0s 5ms/step - loss: 0.2542 - accuracy: 0.8654\n",
      "Epoch 44/100\n",
      "14/14 [==============================] - 0s 3ms/step - loss: 0.2629 - accuracy: 0.8544\n",
      "Epoch 45/100\n",
      "14/14 [==============================] - 0s 4ms/step - loss: 0.2568 - accuracy: 0.8654\n",
      "Epoch 46/100\n",
      "14/14 [==============================] - 0s 4ms/step - loss: 0.2500 - accuracy: 0.8681\n",
      "Epoch 47/100\n",
      "14/14 [==============================] - 0s 4ms/step - loss: 0.2446 - accuracy: 0.8736\n",
      "Epoch 48/100\n",
      "14/14 [==============================] - 0s 4ms/step - loss: 0.2393 - accuracy: 0.8819\n",
      "Epoch 49/100\n",
      "14/14 [==============================] - 0s 4ms/step - loss: 0.2399 - accuracy: 0.8819\n",
      "Epoch 50/100\n",
      "14/14 [==============================] - 0s 3ms/step - loss: 0.2418 - accuracy: 0.8764\n",
      "Epoch 51/100\n",
      "14/14 [==============================] - 0s 12ms/step - loss: 0.2417 - accuracy: 0.8791\n",
      "Epoch 52/100\n",
      "14/14 [==============================] - 0s 4ms/step - loss: 0.2389 - accuracy: 0.8819\n",
      "Epoch 53/100\n",
      "14/14 [==============================] - 0s 4ms/step - loss: 0.2333 - accuracy: 0.8929\n",
      "Epoch 54/100\n",
      "14/14 [==============================] - 0s 5ms/step - loss: 0.2365 - accuracy: 0.8984\n",
      "Epoch 55/100\n",
      "14/14 [==============================] - 0s 4ms/step - loss: 0.2339 - accuracy: 0.8736\n",
      "Epoch 56/100\n",
      "14/14 [==============================] - 0s 3ms/step - loss: 0.2284 - accuracy: 0.8901\n",
      "Epoch 57/100\n",
      "14/14 [==============================] - 0s 4ms/step - loss: 0.2341 - accuracy: 0.8874\n",
      "Epoch 58/100\n",
      "14/14 [==============================] - 0s 3ms/step - loss: 0.2313 - accuracy: 0.8929\n",
      "Epoch 59/100\n",
      "14/14 [==============================] - 0s 4ms/step - loss: 0.2357 - accuracy: 0.8846\n",
      "Epoch 60/100\n",
      "14/14 [==============================] - 0s 4ms/step - loss: 0.2370 - accuracy: 0.8846\n",
      "Epoch 61/100\n",
      "14/14 [==============================] - 0s 4ms/step - loss: 0.2252 - accuracy: 0.8791\n",
      "Epoch 62/100\n",
      "14/14 [==============================] - 0s 3ms/step - loss: 0.2347 - accuracy: 0.8764\n",
      "Epoch 63/100\n",
      "14/14 [==============================] - 0s 3ms/step - loss: 0.2455 - accuracy: 0.8846\n",
      "Epoch 64/100\n",
      "14/14 [==============================] - 0s 3ms/step - loss: 0.2504 - accuracy: 0.8654\n",
      "Epoch 65/100\n",
      "14/14 [==============================] - 0s 3ms/step - loss: 0.2402 - accuracy: 0.8819\n",
      "Epoch 66/100\n",
      "14/14 [==============================] - 0s 3ms/step - loss: 0.2335 - accuracy: 0.8846\n",
      "Epoch 67/100\n",
      "14/14 [==============================] - 0s 3ms/step - loss: 0.2226 - accuracy: 0.8874\n",
      "Epoch 68/100\n",
      "14/14 [==============================] - 0s 3ms/step - loss: 0.2237 - accuracy: 0.8929\n",
      "Epoch 69/100\n",
      "14/14 [==============================] - 0s 4ms/step - loss: 0.2267 - accuracy: 0.8929\n",
      "Epoch 70/100\n",
      "14/14 [==============================] - 0s 4ms/step - loss: 0.2211 - accuracy: 0.8929\n",
      "Epoch 71/100\n",
      "14/14 [==============================] - 0s 4ms/step - loss: 0.2286 - accuracy: 0.8956\n",
      "Epoch 72/100\n",
      "14/14 [==============================] - 0s 3ms/step - loss: 0.2202 - accuracy: 0.8929\n",
      "Epoch 73/100\n",
      "14/14 [==============================] - 0s 4ms/step - loss: 0.2182 - accuracy: 0.8956\n",
      "Epoch 74/100\n",
      "14/14 [==============================] - 0s 5ms/step - loss: 0.2263 - accuracy: 0.8874\n",
      "Epoch 75/100\n",
      "14/14 [==============================] - 0s 4ms/step - loss: 0.2239 - accuracy: 0.8901\n",
      "Epoch 76/100\n",
      "14/14 [==============================] - 0s 4ms/step - loss: 0.2434 - accuracy: 0.8736\n",
      "Epoch 77/100\n",
      "14/14 [==============================] - 0s 4ms/step - loss: 0.2109 - accuracy: 0.9093\n",
      "Epoch 78/100\n",
      "14/14 [==============================] - 0s 5ms/step - loss: 0.2202 - accuracy: 0.9038\n",
      "Epoch 79/100\n",
      "14/14 [==============================] - 0s 4ms/step - loss: 0.2130 - accuracy: 0.8956\n",
      "Epoch 80/100\n",
      "14/14 [==============================] - 0s 5ms/step - loss: 0.2199 - accuracy: 0.8901\n",
      "Epoch 81/100\n",
      "14/14 [==============================] - 0s 5ms/step - loss: 0.2212 - accuracy: 0.8929\n",
      "Epoch 82/100\n",
      "14/14 [==============================] - 0s 3ms/step - loss: 0.2134 - accuracy: 0.8956\n",
      "Epoch 83/100\n"
     ]
    },
    {
     "name": "stdout",
     "output_type": "stream",
     "text": [
      "14/14 [==============================] - 0s 4ms/step - loss: 0.2409 - accuracy: 0.8709\n",
      "Epoch 84/100\n",
      "14/14 [==============================] - 0s 4ms/step - loss: 0.2332 - accuracy: 0.8819\n",
      "Epoch 85/100\n",
      "14/14 [==============================] - 0s 3ms/step - loss: 0.2165 - accuracy: 0.9011\n",
      "Epoch 86/100\n",
      "14/14 [==============================] - 0s 3ms/step - loss: 0.2102 - accuracy: 0.9038\n",
      "Epoch 87/100\n",
      "14/14 [==============================] - 0s 4ms/step - loss: 0.2103 - accuracy: 0.9093\n",
      "Epoch 88/100\n",
      "14/14 [==============================] - 0s 4ms/step - loss: 0.2138 - accuracy: 0.9121\n",
      "Epoch 89/100\n",
      "14/14 [==============================] - 0s 4ms/step - loss: 0.2257 - accuracy: 0.8764\n",
      "Epoch 90/100\n",
      "14/14 [==============================] - 0s 4ms/step - loss: 0.2163 - accuracy: 0.9038\n",
      "Epoch 91/100\n",
      "14/14 [==============================] - 0s 3ms/step - loss: 0.2418 - accuracy: 0.8874\n",
      "Epoch 92/100\n",
      "14/14 [==============================] - 0s 4ms/step - loss: 0.2398 - accuracy: 0.8791\n",
      "Epoch 93/100\n",
      "14/14 [==============================] - 0s 3ms/step - loss: 0.2276 - accuracy: 0.8929\n",
      "Epoch 94/100\n",
      "14/14 [==============================] - 0s 3ms/step - loss: 0.2304 - accuracy: 0.8681\n",
      "Epoch 95/100\n",
      "14/14 [==============================] - 0s 3ms/step - loss: 0.2314 - accuracy: 0.8956\n",
      "Epoch 96/100\n",
      "14/14 [==============================] - 0s 4ms/step - loss: 0.2024 - accuracy: 0.9093\n",
      "Epoch 97/100\n",
      "14/14 [==============================] - 0s 3ms/step - loss: 0.2384 - accuracy: 0.8681\n",
      "Epoch 98/100\n",
      "14/14 [==============================] - 0s 4ms/step - loss: 0.2220 - accuracy: 0.8901\n",
      "Epoch 99/100\n",
      "14/14 [==============================] - 0s 4ms/step - loss: 0.2290 - accuracy: 0.8929\n",
      "Epoch 100/100\n",
      "14/14 [==============================] - 0s 3ms/step - loss: 0.2257 - accuracy: 0.8846\n"
     ]
    },
    {
     "data": {
      "text/plain": [
       "<keras.src.callbacks.History at 0x1f0c6871310>"
      ]
     },
     "execution_count": 66,
     "metadata": {},
     "output_type": "execute_result"
    }
   ],
   "source": [
    "ann.fit(X_train, y_train, batch_size = 26, epochs = 100)"
   ]
  },
  {
   "cell_type": "code",
   "execution_count": 67,
   "id": "e87a3972",
   "metadata": {},
   "outputs": [
    {
     "name": "stdout",
     "output_type": "stream",
     "text": [
      "2/2 [==============================] - 0s 6ms/step\n"
     ]
    }
   ],
   "source": [
    "y_pred = ann.predict(X_test)\n",
    "y_pred = (y_pred > 0.5)"
   ]
  },
  {
   "cell_type": "code",
   "execution_count": 68,
   "id": "7c7fcba7",
   "metadata": {},
   "outputs": [
    {
     "name": "stdout",
     "output_type": "stream",
     "text": [
      "[[49  3]\n",
      " [ 0  0]]\n"
     ]
    },
    {
     "data": {
      "text/plain": [
       "0.9423076923076923"
      ]
     },
     "execution_count": 68,
     "metadata": {},
     "output_type": "execute_result"
    }
   ],
   "source": [
    "from sklearn.metrics import confusion_matrix, accuracy_score\n",
    "cm = confusion_matrix(y_test, y_pred)\n",
    "print(cm)\n",
    "accuracy_score(y_test, y_pred)"
   ]
  },
  {
   "cell_type": "code",
   "execution_count": 44,
   "id": "823999bf",
   "metadata": {},
   "outputs": [
    {
     "name": "stdout",
     "output_type": "stream",
     "text": [
      "Epoch 1/25\n",
      "10/10 [==============================] - 1s 4ms/step - loss: 0.6670 - accuracy: 0.7212\n",
      "Epoch 2/25\n",
      "10/10 [==============================] - 0s 4ms/step - loss: 0.5923 - accuracy: 0.8269\n",
      "Epoch 3/25\n",
      "10/10 [==============================] - 0s 4ms/step - loss: 0.5150 - accuracy: 0.8269\n",
      "Epoch 4/25\n",
      "10/10 [==============================] - 0s 3ms/step - loss: 0.4340 - accuracy: 0.8269\n",
      "Epoch 5/25\n",
      "10/10 [==============================] - 0s 4ms/step - loss: 0.3688 - accuracy: 0.8269\n",
      "Epoch 6/25\n",
      "10/10 [==============================] - 0s 4ms/step - loss: 0.3214 - accuracy: 0.8269\n",
      "Epoch 7/25\n",
      "10/10 [==============================] - 0s 4ms/step - loss: 0.2900 - accuracy: 0.8301\n",
      "Epoch 8/25\n",
      "10/10 [==============================] - 0s 4ms/step - loss: 0.2703 - accuracy: 0.8462\n",
      "Epoch 9/25\n",
      "10/10 [==============================] - 0s 3ms/step - loss: 0.2552 - accuracy: 0.8654\n",
      "Epoch 10/25\n",
      "10/10 [==============================] - 0s 4ms/step - loss: 0.2461 - accuracy: 0.8782\n",
      "Epoch 11/25\n",
      "10/10 [==============================] - 0s 4ms/step - loss: 0.2364 - accuracy: 0.8846\n",
      "Epoch 12/25\n",
      "10/10 [==============================] - 0s 3ms/step - loss: 0.2291 - accuracy: 0.8942\n",
      "Epoch 13/25\n",
      "10/10 [==============================] - 0s 4ms/step - loss: 0.2220 - accuracy: 0.8974\n",
      "Epoch 14/25\n",
      "10/10 [==============================] - 0s 4ms/step - loss: 0.2147 - accuracy: 0.9103\n",
      "Epoch 15/25\n",
      "10/10 [==============================] - 0s 4ms/step - loss: 0.2074 - accuracy: 0.9103\n",
      "Epoch 16/25\n",
      "10/10 [==============================] - 0s 3ms/step - loss: 0.2001 - accuracy: 0.9103\n",
      "Epoch 17/25\n",
      "10/10 [==============================] - 0s 5ms/step - loss: 0.1946 - accuracy: 0.9135\n",
      "Epoch 18/25\n",
      "10/10 [==============================] - 0s 3ms/step - loss: 0.1895 - accuracy: 0.9263\n",
      "Epoch 19/25\n",
      "10/10 [==============================] - 0s 4ms/step - loss: 0.1818 - accuracy: 0.9295\n",
      "Epoch 20/25\n",
      "10/10 [==============================] - 0s 4ms/step - loss: 0.1756 - accuracy: 0.9263\n",
      "Epoch 21/25\n",
      "10/10 [==============================] - 0s 4ms/step - loss: 0.1699 - accuracy: 0.9359\n",
      "Epoch 22/25\n",
      "10/10 [==============================] - 0s 4ms/step - loss: 0.1658 - accuracy: 0.9295\n",
      "Epoch 23/25\n",
      "10/10 [==============================] - 0s 4ms/step - loss: 0.1578 - accuracy: 0.9391\n",
      "Epoch 24/25\n",
      "10/10 [==============================] - 0s 4ms/step - loss: 0.1562 - accuracy: 0.9487\n",
      "Epoch 25/25\n",
      "10/10 [==============================] - 0s 3ms/step - loss: 0.1492 - accuracy: 0.9455\n"
     ]
    },
    {
     "data": {
      "text/plain": [
       "<keras.src.callbacks.History at 0x1f0c5582100>"
      ]
     },
     "execution_count": 44,
     "metadata": {},
     "output_type": "execute_result"
    }
   ],
   "source": [
    "cnn = tf.keras.models.Sequential()\n",
    "cnn.add(tf.keras.layers.Conv1D(filters=32, kernel_size=4, activation='relu', input_shape=[9, 1]))\n",
    "#cnn.add(tf.keras.layers.MaxPool2D(pool_size=2, strides=2))\n",
    "#cnn.add(tf.keras.layers.Conv2D(filters=32, kernel_size=3, activation='relu'))\n",
    "#cnn.add(tf.keras.layers.MaxPool2D(pool_size=2, strides=2))\n",
    "cnn.add(tf.keras.layers.Flatten())\n",
    "cnn.add(tf.keras.layers.Dense(units=12, activation='relu'))\n",
    "cnn.add(tf.keras.layers.Dense(units=12, activation='relu'))\n",
    "cnn.add(tf.keras.layers.Dense(units=1, activation='sigmoid'))\n",
    "cnn.compile(optimizer = 'adam', loss = 'binary_crossentropy', metrics = ['accuracy'])\n",
    "cnn.fit(X_train,y_train, epochs = 25)"
   ]
  },
  {
   "cell_type": "code",
   "execution_count": 45,
   "id": "ab5002bb",
   "metadata": {},
   "outputs": [
    {
     "name": "stdout",
     "output_type": "stream",
     "text": [
      "4/4 [==============================] - 0s 3ms/step\n",
      "[[86  6]\n",
      " [ 8  4]]\n"
     ]
    },
    {
     "data": {
      "text/plain": [
       "0.8653846153846154"
      ]
     },
     "execution_count": 45,
     "metadata": {},
     "output_type": "execute_result"
    }
   ],
   "source": [
    "y_pred = cnn.predict(X_test)\n",
    "y_pred = (y_pred > 0.5)\n",
    "from sklearn.metrics import confusion_matrix, accuracy_score\n",
    "cm = confusion_matrix(y_test, y_pred)\n",
    "print(cm)\n",
    "accuracy_score(y_test, y_pred)"
   ]
  },
  {
   "cell_type": "code",
   "execution_count": null,
   "id": "8f021f67",
   "metadata": {},
   "outputs": [],
   "source": []
  }
 ],
 "metadata": {
  "kernelspec": {
   "display_name": "Python 3 (ipykernel)",
   "language": "python",
   "name": "python3"
  },
  "language_info": {
   "codemirror_mode": {
    "name": "ipython",
    "version": 3
   },
   "file_extension": ".py",
   "mimetype": "text/x-python",
   "name": "python",
   "nbconvert_exporter": "python",
   "pygments_lexer": "ipython3",
   "version": "3.9.7"
  }
 },
 "nbformat": 4,
 "nbformat_minor": 5
}
